{
 "cells": [
  {
   "cell_type": "markdown",
   "id": "1b6a28e0-c227-459f-a9a0-cebf6627bd01",
   "metadata": {},
   "source": [
    "# My Jupiter Notebook On IBM Watson Studio"
   ]
  },
  {
   "cell_type": "markdown",
   "id": "2edd0129-76f1-4d19-bd57-ae663032a5c3",
   "metadata": {},
   "source": [
    "**Jagdish**\n",
    "\n",
    "Managing a Data Science Team"
   ]
  },
  {
   "cell_type": "markdown",
   "id": "8843bb12-9b3c-40b7-80c9-8b631a509368",
   "metadata": {},
   "source": [
    "*I am interested in Data Science because with the correct knowledege and measure we could resolve a lot of problems for the humankind*"
   ]
  },
  {
   "cell_type": "markdown",
   "id": "7282770b-80ad-403a-bd0a-595b83cbefb8",
   "metadata": {},
   "source": [
    "### The code is suppose to add two numbers"
   ]
  },
  {
   "cell_type": "code",
   "execution_count": 8,
   "id": "c62980d1-1099-457e-890d-b2b6143597a3",
   "metadata": {},
   "outputs": [
    {
     "data": {
      "text/plain": [
       "2"
      ]
     },
     "execution_count": 8,
     "metadata": {},
     "output_type": "execute_result"
    }
   ],
   "source": [
    "1+1"
   ]
  },
  {
   "cell_type": "markdown",
   "id": "f55df20c-5d52-4007-997e-c02d1c710468",
   "metadata": {},
   "source": [
    "Horizontal Rule\n",
    "______\n",
    "Bulleted list\n",
    "* First item\n",
    "* second item \n",
    "* Third item\n",
    "\n",
    "The link is this:\n",
    "http://google.com\n"
   ]
  },
  {
   "cell_type": "code",
   "execution_count": null,
   "id": "7fd7de19-7746-4cc8-bf67-834a4e0f67ca",
   "metadata": {},
   "outputs": [],
   "source": []
  }
 ],
 "metadata": {
  "kernelspec": {
   "display_name": "Python",
   "language": "python",
   "name": "conda-env-python-py"
  },
  "language_info": {
   "codemirror_mode": {
    "name": "ipython",
    "version": 3
   },
   "file_extension": ".py",
   "mimetype": "text/x-python",
   "name": "python",
   "nbconvert_exporter": "python",
   "pygments_lexer": "ipython3",
   "version": "3.7.12"
  }
 },
 "nbformat": 4,
 "nbformat_minor": 5
}
